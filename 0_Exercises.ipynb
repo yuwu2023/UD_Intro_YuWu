{
 "cells": [
  {
   "cell_type": "markdown",
   "id": "ce6d9a18",
   "metadata": {},
   "source": [
    "# Exercise 00\n",
    "Write a bit of code that prints _Introduction to Programming_ to the console and execute the cell"
   ]
  },
  {
   "cell_type": "code",
   "execution_count": 2,
   "id": "db717121",
   "metadata": {},
   "outputs": [
    {
     "name": "stdout",
     "output_type": "stream",
     "text": [
      "Introduction to Programming\n"
     ]
    }
   ],
   "source": [
    "print(\"Introduction to Programming\")"
   ]
  },
  {
   "cell_type": "markdown",
   "id": "a5ec52de",
   "metadata": {},
   "source": [
    "-----------------------------------------------------------------------------\n",
    "# Exercise 01\n",
    "Hello World is traditionally the first program anyone writes. It is\n",
    "very simple and the only thing it should do is print Hello World! to the\n",
    "terminal window.\n",
    "Create a file called HelloWorld.py and edit the contents so it prints Hello World! to the terminal and execute it using the command line."
   ]
  },
  {
   "cell_type": "code",
   "execution_count": 62,
   "id": "9133e35e",
   "metadata": {},
   "outputs": [
    {
     "name": "stdout",
     "output_type": "stream",
     "text": [
      "Hello, world!\n"
     ]
    }
   ],
   "source": [
    "%run HelloWorld.py"
   ]
  },
  {
   "cell_type": "markdown",
   "id": "3777e4a2",
   "metadata": {},
   "source": [
    "-----------------------------------------------------------------------------\n",
    "# Exercise 02\n",
    "Write some code to print your name, email, and age on separate lines. For each element first assign it to a variable and use the variable to print. \n",
    "\n",
    "Bonus: try to create the print statement for all variable in one line of code. (hint: '\\n' is the character for a new line)"
   ]
  },
  {
   "cell_type": "code",
   "execution_count": 14,
   "id": "a0711d7d",
   "metadata": {},
   "outputs": [
    {
     "name": "stdout",
     "output_type": "stream",
     "text": [
      "Willow \n",
      " willow@gmail.com \n",
      " 22\n",
      "<class 'str'> <class 'int'>\n"
     ]
    }
   ],
   "source": [
    "name=\"Willow\"\n",
    "email=\"willow@gmail.com\"\n",
    "age=22\n",
    "print(name,'\\n',email,'\\n',age)\n",
    "print(type(name),type(age))"
   ]
  },
  {
   "cell_type": "markdown",
   "id": "17c90d39",
   "metadata": {},
   "source": [
    "-----------------------------------------------------------------------------\n",
    "# Exercise 03\n",
    "Print the numbers 0, 178, -21, 2938 divided by 49, 436 multiplied with 9948 and 12 to the power of 20\n",
    "\n",
    "(Hint: Look up the documentation of basic arithmetic operators)"
   ]
  },
  {
   "cell_type": "code",
   "execution_count": 2,
   "id": "5957dc88",
   "metadata": {},
   "outputs": [
    {
     "name": "stdout",
     "output_type": "stream",
     "text": [
      "0 divided by 49 = 0.0\n",
      "178 divided by 49 = 3.63265306122449\n",
      "-21 divided by 49 = -0.42857142857142855\n",
      "2938 divided by 49 = 59.95918367346939\n",
      "436 multiplied by 9948 = 4337328\n",
      "12 to the power of 20 = 3833759992447475122176\n"
     ]
    }
   ],
   "source": [
    "\n",
    "result1 = 0 / 49\n",
    "result2 = 178 / 49\n",
    "result3 = -21 / 49\n",
    "result4 = 2938 / 49\n",
    "\n",
    "\n",
    "result5 = 436 * 9948\n",
    "\n",
    "\n",
    "result6 = 12 ** 20\n",
    "\n",
    "\n",
    "print(\"0 divided by 49 =\", result1)\n",
    "print(\"178 divided by 49 =\", result2)\n",
    "print(\"-21 divided by 49 =\", result3)\n",
    "print(\"2938 divided by 49 =\", result4)\n",
    "print(\"436 multiplied by 9948 =\", result5)\n",
    "print(\"12 to the power of 20 =\", result6)"
   ]
  },
  {
   "cell_type": "markdown",
   "id": "97b90f80",
   "metadata": {},
   "source": [
    "-----------------------------------------------------------------------------\n",
    "# Exercise 04\n",
    "Print sin(200), cos(100), tan($\\pi$/4)\n",
    "\n",
    "(Hint: Look up for how to use trigonometric function, and how to get the value of $\\pi$.)"
   ]
  },
  {
   "cell_type": "code",
   "execution_count": 28,
   "id": "240a5d68",
   "metadata": {},
   "outputs": [
    {
     "name": "stdout",
     "output_type": "stream",
     "text": [
      "sin(200) = -0.8732972972139946\n",
      "cos(100) = 0.8623188722876839\n",
      "tan(π/4) = 0.9999999999999999\n"
     ]
    }
   ],
   "source": [
    "import math\n",
    "\n",
    "sin_200 = math.sin(200)\n",
    "print(\"sin(200) =\", sin_200)\n",
    "\n",
    "cos_100 = math.cos(100)\n",
    "print(\"cos(100) =\", cos_100)\n",
    "\n",
    "tan_pi_over_4 = math.tan(math.pi / 4)\n",
    "print(\"tan(π/4) =\", tan_pi_over_4)"
   ]
  },
  {
   "cell_type": "markdown",
   "id": "dc1d1887",
   "metadata": {},
   "source": [
    "-----------------------------------------------------------------------------\n",
    "# Exercise 05\n",
    "Write a program to read your first and last names from the console seperately, and then print them on the console together, separated by a space."
   ]
  },
  {
   "cell_type": "code",
   "execution_count": 8,
   "id": "db900dc3",
   "metadata": {},
   "outputs": [
    {
     "name": "stdout",
     "output_type": "stream",
     "text": [
      "Your full name is: YU WU\n"
     ]
    }
   ],
   "source": [
    "first_name = \"YU\"\n",
    "\n",
    "last_name = \"WU\"\n",
    "\n",
    "full_name = first_name + \" \" + last_name\n",
    "print(\"Your full name is:\", full_name)\n"
   ]
  },
  {
   "cell_type": "markdown",
   "id": "e43a641e",
   "metadata": {},
   "source": [
    "-----------------------------------------------------------------------------\n",
    "# Exercise 06\n",
    "Write a program that determines whether a number given as user input is positive or negative\n",
    " \n",
    "You will need to convert the console input from a string to a number first!"
   ]
  },
  {
   "cell_type": "code",
   "execution_count": 9,
   "id": "758c21ab",
   "metadata": {},
   "outputs": [
    {
     "name": "stdout",
     "output_type": "stream",
     "text": [
      "The number is positive.\n"
     ]
    }
   ],
   "source": [
    "user_input = \"3\"\n",
    "\n",
    "number = float(user_input)\n",
    "\n",
    "if number > 0:\n",
    "    print(\"The number is positive.\")\n",
    "elif number < 0:\n",
    "    print(\"The number is negative.\")\n",
    "else:\n",
    "    print(\"The number is zero.\")\n"
   ]
  },
  {
   "cell_type": "markdown",
   "id": "d39cae72",
   "metadata": {},
   "source": [
    "-----------------------------------------------------------------------------\n",
    "# Exercise 07\n",
    "Write a program that picks a random number between 1-20 and makes the user guess until they get the number right. Then print a congratulations message\n",
    "- (Find out yourself how to generate a random integer)\n",
    "- Bonus: make the user choose the range within which they have to guess\n",
    "- Bonus: keep track of how many guesses were made and print this at the end"
   ]
  },
  {
   "cell_type": "code",
   "execution_count": 15,
   "id": "63f53c8f",
   "metadata": {},
   "outputs": [
    {
     "ename": "NameError",
     "evalue": "name 'random' is not defined",
     "output_type": "error",
     "traceback": [
      "\u001b[1;31m---------------------------------------------------------------------------\u001b[0m",
      "\u001b[1;31mNameError\u001b[0m                                 Traceback (most recent call last)",
      "Cell \u001b[1;32mIn[15], line 4\u001b[0m\n\u001b[0;32m      1\u001b[0m lower_limit \u001b[38;5;241m=\u001b[39m \u001b[38;5;28mint\u001b[39m(\u001b[38;5;124m\"\u001b[39m\u001b[38;5;124m1 \u001b[39m\u001b[38;5;124m\"\u001b[39m)\n\u001b[0;32m      2\u001b[0m upper_limit \u001b[38;5;241m=\u001b[39m \u001b[38;5;28mint\u001b[39m(\u001b[38;5;124m\"\u001b[39m\u001b[38;5;124m 20\u001b[39m\u001b[38;5;124m\"\u001b[39m)\n\u001b[1;32m----> 4\u001b[0m random_number \u001b[38;5;241m=\u001b[39m \u001b[43mrandom\u001b[49m\u001b[38;5;241m.\u001b[39mrandint(lower_limit, upper_limit)\n\u001b[0;32m      6\u001b[0m guess_count \u001b[38;5;241m=\u001b[39m \u001b[38;5;241m0\u001b[39m\n\u001b[0;32m      8\u001b[0m \u001b[38;5;28;01mwhile\u001b[39;00m \u001b[38;5;28;01mTrue\u001b[39;00m:\n",
      "\u001b[1;31mNameError\u001b[0m: name 'random' is not defined"
     ]
    }
   ],
   "source": [
    "lower_limit = int(\"1 \")\n",
    "upper_limit = int(\" 20\")\n",
    "\n",
    "random_number = random.randint(lower_limit, upper_limit)\n",
    "\n",
    "guess_count = 0\n",
    "\n",
    "while True:\n",
    "\n",
    "    guess = int(input(f\"Guess a number between {lower_limit} and {upper_limit}: \"))\n",
    "    \n",
    "    guess_count += 1\n",
    "    \n",
    "    if guess == random_number:\n",
    "        print(f\"Congratulations! You guessed the correct number {random_number} in {guess_count} guesses.\")\n",
    "        break\n",
    "    elif guess < random_number:\n",
    "        print(\"Try a higher number.\")\n",
    "    else:\n",
    "        print(\"Try a lower number.\")\n"
   ]
  },
  {
   "cell_type": "markdown",
   "id": "125baa5c",
   "metadata": {},
   "source": [
    "-----------------------------------------------------------------------------\n",
    "# Exercise 08\n",
    "Ask a sentence as input, then print the words in alphabetical order.\n",
    "Hint: look up how to split up a string"
   ]
  },
  {
   "cell_type": "code",
   "execution_count": 35,
   "id": "5d062146",
   "metadata": {},
   "outputs": [
    {
     "data": {
      "text/plain": [
       "['a', 'day', 'is', 'sunny', 'Today']"
      ]
     },
     "execution_count": 35,
     "metadata": {},
     "output_type": "execute_result"
    }
   ],
   "source": [
    "sen=\"Today is a sunny day!\"\n",
    "resemble=sen.rstrip(\"!\").split()\n",
    "sorted(resemble,key=str.lower)"
   ]
  },
  {
   "cell_type": "markdown",
   "id": "6a55d419",
   "metadata": {},
   "source": [
    "-----------------------------------------------------------------------------\n",
    "# Exercise 09\n",
    "Write a program using for loops to print a christmas tree of x lines high\n",
    "specified by the user.\n",
    "(use for loops)\n",
    "so for instance, a chrismas tree of 4 high should looks like this:\n",
    "\n",
    "```\n",
    "\n",
    "    *\n",
    "   ***\n",
    "  *****\n",
    " *******\n",
    "    |\n",
    "\n",
    "```\n",
    "\n",
    "hint: first combine strings into a variable before printing"
   ]
  },
  {
   "cell_type": "code",
   "execution_count": 16,
   "id": "6247730c",
   "metadata": {},
   "outputs": [
    {
     "name": "stdout",
     "output_type": "stream",
     "text": [
      "    *\n",
      "   ***\n",
      "  *****\n",
      " *******\n",
      "    |\n"
     ]
    }
   ],
   "source": [
    "n=4\n",
    "for i in range(1,2*n,2):\n",
    "    print(' '*int(n-(i+1)/2),'*'*i)\n",
    "    if i==2*n-1:\n",
    "        print(' '*int(n-1) ,'|')"
   ]
  },
  {
   "cell_type": "markdown",
   "id": "b9a370db",
   "metadata": {},
   "source": [
    "-----------------------------------------------------------------------------\n",
    "# Exercise 10\n",
    "Write a piece of code that prints the first $n$ numbers of the padovan sequence"
   ]
  },
  {
   "cell_type": "code",
   "execution_count": 39,
   "id": "2539b60d",
   "metadata": {},
   "outputs": [
    {
     "name": "stdout",
     "output_type": "stream",
     "text": [
      "351\n"
     ]
    }
   ],
   "source": [
    "n=22\n",
    "def padovan(n):\n",
    "    p0 = p1 = p2 = 1\n",
    "    if n<=2:\n",
    "        return 1\n",
    "    else:\n",
    "        for i in range(3,n+1):\n",
    "            p3=p0+p1\n",
    "            p0=p1\n",
    "            p1=p2\n",
    "            p2=p3\n",
    "        return p3\n",
    "result=padovan(n)\n",
    "print(result)"
   ]
  },
  {
   "cell_type": "code",
   "execution_count": null,
   "id": "e7e085f3",
   "metadata": {},
   "outputs": [],
   "source": []
  }
 ],
 "metadata": {
  "kernelspec": {
   "display_name": "will",
   "language": "python",
   "name": "will"
  },
  "language_info": {
   "codemirror_mode": {
    "name": "ipython",
    "version": 3
   },
   "file_extension": ".py",
   "mimetype": "text/x-python",
   "name": "python",
   "nbconvert_exporter": "python",
   "pygments_lexer": "ipython3",
   "version": "3.8.18"
  }
 },
 "nbformat": 4,
 "nbformat_minor": 5
}
